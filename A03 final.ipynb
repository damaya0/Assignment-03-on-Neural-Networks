{
 "cells": [
  {
   "cell_type": "markdown",
   "metadata": {},
   "source": [
    "Adikari A.A.S.D. \\\n",
    "210022G \\\n",
    "Assignment 03 - Neural Networks"
   ]
  },
  {
   "cell_type": "markdown",
   "metadata": {},
   "source": [
    "<h2> Task 1 <h2> "
   ]
  },
  {
   "cell_type": "code",
   "execution_count": 1,
   "metadata": {},
   "outputs": [
    {
     "name": "stdout",
     "output_type": "stream",
     "text": [
      "Files already downloaded and verified\n",
      "Files already downloaded and verified\n"
     ]
    }
   ],
   "source": [
    "import torch\n",
    "import torch.nn as nn\n",
    "import torch.optim as optim\n",
    "import torchvision\n",
    "import torchvision.transforms as transforms\n",
    "import matplotlib.pyplot as plt\n",
    "\n",
    "# 1. Data Loading\n",
    "transform = transforms.Compose([\n",
    "    transforms.ToTensor(),\n",
    "    transforms.Normalize((0.5, 0.5, 0.5), (0.5, 0.5, 0.5))\n",
    "])\n",
    "batch_size = 50\n",
    "trainset = torchvision.datasets.CIFAR10(root='./data', train=True, download=True, transform=transform)\n",
    "trainloader = torch.utils.data.DataLoader(trainset, batch_size=batch_size, shuffle=True, num_workers=2)\n",
    "testset = torchvision.datasets.CIFAR10(root='./data', train=False, download=True, transform=transform)\n",
    "testloader = torch.utils.data.DataLoader(testset, batch_size=batch_size, shuffle=False, num_workers=2)\n",
    "classes = ('plane', 'car', 'bird', 'cat', 'deer', 'dog', 'frog', 'horse', 'ship', 'truck')"
   ]
  },
  {
   "cell_type": "code",
   "execution_count": null,
   "metadata": {},
   "outputs": [],
   "source": [
    "# 2. Define Network Architecture with Hidden Layer\n",
    "class SimpleNet(nn.Module):\n",
    "    def __init__(self, input_size, hidden_size, output_size):\n",
    "        super(SimpleNet, self).__init__()\n",
    "        # Define layers\n",
    "        self.fc1 = nn.Linear(input_size, hidden_size)\n",
    "        self.sigmoid = nn.Sigmoid()\n",
    "        self.fc2 = nn.Linear(hidden_size, output_size)\n",
    "    \n",
    "    def forward(self, x):\n",
    "        x = x.view(x.size(0), -1)  # Flatten input\n",
    "        x = self.fc1(x)  # First layer\n",
    "        x = self.sigmoid(x)  # Sigmoid activation\n",
    "        x = self.fc2(x)  # Output layer\n",
    "        return x\n",
    "\n",
    "# Model parameters\n",
    "input_size = 3 * 32 * 32  # CIFAR-10 image size (flattened)\n",
    "hidden_size = 100  # Hidden layer size\n",
    "output_size = 10  # Number of classes\n",
    "\n",
    "# Instantiate model, loss function, and optimizer\n",
    "model = SimpleNet(input_size, hidden_size, output_size)\n",
    "criterion = nn.CrossEntropyLoss()  # Cross-entropy loss for classification\n",
    "optimizer = optim.SGD(model.parameters(), lr=0.01, weight_decay=0.0005) \n"
   ]
  },
  {
   "cell_type": "code",
   "execution_count": null,
   "metadata": {},
   "outputs": [
    {
     "name": "stdout",
     "output_type": "stream",
     "text": [
      "Epoch 1/10, Loss: 2.0825\n",
      "Epoch 2/10, Loss: 1.9111\n",
      "Epoch 3/10, Loss: 1.8474\n",
      "Epoch 4/10, Loss: 1.8086\n",
      "Epoch 5/10, Loss: 1.7804\n",
      "Epoch 6/10, Loss: 1.7585\n",
      "Epoch 7/10, Loss: 1.7412\n",
      "Epoch 8/10, Loss: 1.7262\n",
      "Epoch 9/10, Loss: 1.7134\n",
      "Epoch 10/10, Loss: 1.7023\n"
     ]
    }
   ],
   "source": [
    "# 3. Training Loop\n",
    "num_epochs = 10\n",
    "loss_history = []\n",
    "\n",
    "for epoch in range(num_epochs):\n",
    "    running_loss = 0.0\n",
    "    for inputs, labels in trainloader:\n",
    "        # Zero gradients\n",
    "        optimizer.zero_grad()\n",
    "        \n",
    "        # Forward pass\n",
    "        outputs = model(inputs)\n",
    "        loss = criterion(outputs, labels)\n",
    "        \n",
    "        # Backward pass and optimization\n",
    "        loss.backward()\n",
    "        optimizer.step()\n",
    "        \n",
    "        # Accumulate loss\n",
    "        running_loss += loss.item()\n",
    "\n",
    "    # Average loss for the epoch\n",
    "    epoch_loss = running_loss / len(trainloader)\n",
    "    loss_history.append(epoch_loss)\n",
    "    print(f\"Epoch {epoch + 1}/{num_epochs}, Loss: {epoch_loss:.4f}\")\n"
   ]
  },
  {
   "cell_type": "code",
   "execution_count": 4,
   "metadata": {},
   "outputs": [
    {
     "data": {
      "image/png": "[encoded data removed]",
      "text/plain": [
       "<Figure size 640x480 with 1 Axes>"
      ]
     },
     "metadata": {},
     "output_type": "display_data"
    }
   ],
   "source": [
    "# 4. Plotting the Loss History\n",
    "plt.plot(loss_history)\n",
    "plt.title(\"Loss History\")\n",
    "plt.xlabel(\"Epoch\")\n",
    "plt.ylabel(\"Loss\")\n",
    "plt.show()"
   ]
  },
  {
   "cell_type": "code",
   "execution_count": 5,
   "metadata": {},
   "outputs": [
    {
     "name": "stdout",
     "output_type": "stream",
     "text": [
      "Training Accuracy: 41.40%\n"
     ]
    }
   ],
   "source": [
    "# 5. Calculate Training Accuracy\n",
    "correct_train = 0\n",
    "total_train = 0\n",
    "with torch.no_grad():\n",
    "    for inputs, labels in trainloader:\n",
    "        outputs = model(inputs)\n",
    "        _, predicted = torch.max(outputs, 1)\n",
    "        total_train += labels.size(0)\n",
    "        correct_train += (predicted == labels).sum().item()\n",
    "train_acc = 100 * correct_train / total_train\n",
    "print(f\"Training Accuracy: {train_acc:.2f}%\")"
   ]
  },
  {
   "cell_type": "code",
   "execution_count": 6,
   "metadata": {},
   "outputs": [
    {
     "name": "stdout",
     "output_type": "stream",
     "text": [
      "Test Accuracy: 41.00%\n"
     ]
    }
   ],
   "source": [
    "# 6. Calculate Test Accuracy\n",
    "correct_test = 0\n",
    "total_test = 0\n",
    "with torch.no_grad():\n",
    "    for inputs, labels in testloader:\n",
    "        outputs = model(inputs)\n",
    "        _, predicted = torch.max(outputs, 1)\n",
    "        total_test += labels.size(0)\n",
    "        correct_test += (predicted == labels).sum().item()\n",
    "test_acc = 100 * correct_test / total_test\n",
    "print(f\"Test Accuracy: {test_acc:.2f}%\")"
   ]
  },
  {
   "cell_type": "markdown",
   "metadata": {},
   "source": [
    "<h4>Discussion<h4>\n",
    "\n",
    "The model's ability to learn complex patterns is enhanced in this design by the addition of a hidden layer with 100 nodes and a sigmoid activation, which allows it to collect intermediate representations prior to the final classification. Better feature separation is made possible by this additional non-linearity layer, which makes the loss curve smoother and more stable as the model converges more successfully. In contrast to the single-layer network, the new architecture lowers noise in the loss function, suggesting a more reliable and consistent training procedure."
   ]
  },
  {
   "cell_type": "markdown",
   "metadata": {},
   "source": [
    "<h2> Task 2 <h2> "
   ]
  },
  {
   "cell_type": "code",
   "execution_count": 14,
   "metadata": {},
   "outputs": [],
   "source": [
    "transform = transforms.Compose([\n",
    "    transforms.ToTensor(),\n",
    "    transforms.Normalize((0.5,), (0.5,))  # Normalization for grayscale images\n",
    "])\n",
    "batch_size = 64\n",
    "trainset = torchvision.datasets.MNIST(root='./data', train=True, download=True, transform=transform)\n",
    "trainloader = torch.utils.data.DataLoader(trainset, batch_size=batch_size, shuffle=True, num_workers=2)\n",
    "testset = torchvision.datasets.MNIST(root='./data', train=False, download=True, transform=transform)\n",
    "testloader = torch.utils.data.DataLoader(testset, batch_size=batch_size, shuffle=False, num_workers=2)\n"
   ]
  },
  {
   "cell_type": "code",
   "execution_count": 15,
   "metadata": {},
   "outputs": [],
   "source": [
    "# 2. Define LeNet-5 Network\n",
    "class LeNet5(nn.Module):\n",
    "    def __init__(self):\n",
    "        super(LeNet5, self).__init__()\n",
    "        # Convolutional layers\n",
    "        self.conv1 = nn.Conv2d(1, 6, kernel_size=5)  # Input: 1x28x28, Output: 6x24x24\n",
    "        self.conv2 = nn.Conv2d(6, 16, kernel_size=5)  # Input: 6x12x12, Output: 16x8x8\n",
    "        \n",
    "        # Fully connected layers\n",
    "        self.fc1 = nn.Linear(16 * 4 * 4, 120)  # 16 feature maps of 4x4 size after pooling\n",
    "        self.fc2 = nn.Linear(120, 84)\n",
    "        self.fc3 = nn.Linear(84, 10)  # 10 output classes for digits 0-9\n",
    "\n",
    "        # Pooling layer\n",
    "        self.pool = nn.AvgPool2d(2, 2)  # 2x2 average pooling\n",
    "\n",
    "    def forward(self, x):\n",
    "        # Pass through convolutional layers with activation and pooling\n",
    "        x = self.pool(torch.relu(self.conv1(x)))  # Input: 1x28x28, Output: 6x12x12\n",
    "        x = self.pool(torch.relu(self.conv2(x)))  # Input: 6x12x12, Output: 16x4x4\n",
    "        \n",
    "        # Flatten for fully connected layers\n",
    "        x = x.view(-1, 16 * 4 * 4)  # Flatten to 256 features\n",
    "        x = torch.relu(self.fc1(x))\n",
    "        x = torch.relu(self.fc2(x))\n",
    "        x = self.fc3(x)\n",
    "        return x\n",
    "\n",
    "# Instantiate model, loss function, and optimizer\n",
    "model = LeNet5()\n",
    "criterion = nn.CrossEntropyLoss()  # Cross-entropy loss for classification\n",
    "optimizer = optim.Adam(model.parameters(), lr=0.001)\n"
   ]
  },
  {
   "cell_type": "code",
   "execution_count": 16,
   "metadata": {},
   "outputs": [
    {
     "name": "stdout",
     "output_type": "stream",
     "text": [
      "Epoch 1/10, Loss: 0.2843\n",
      "Epoch 2/10, Loss: 0.0769\n",
      "Epoch 3/10, Loss: 0.0544\n",
      "Epoch 4/10, Loss: 0.0438\n",
      "Epoch 5/10, Loss: 0.0363\n",
      "Epoch 6/10, Loss: 0.0322\n",
      "Epoch 7/10, Loss: 0.0267\n",
      "Epoch 8/10, Loss: 0.0232\n",
      "Epoch 9/10, Loss: 0.0215\n",
      "Epoch 10/10, Loss: 0.0198\n"
     ]
    }
   ],
   "source": [
    "# 3. Training Loop\n",
    "num_epochs = 10\n",
    "for epoch in range(num_epochs):\n",
    "    running_loss = 0.0\n",
    "    for inputs, labels in trainloader:\n",
    "        optimizer.zero_grad()  # Zero gradients\n",
    "        \n",
    "        # Forward pass\n",
    "        outputs = model(inputs)\n",
    "        loss = criterion(outputs, labels)\n",
    "        \n",
    "        # Backward pass and optimization\n",
    "        loss.backward()\n",
    "        optimizer.step()\n",
    "        \n",
    "        # Accumulate loss\n",
    "        running_loss += loss.item()\n",
    "\n",
    "    # Print average loss per epoch\n",
    "    print(f\"Epoch {epoch + 1}/{num_epochs}, Loss: {running_loss / len(trainloader):.4f}\")\n"
   ]
  },
  {
   "cell_type": "code",
   "execution_count": 17,
   "metadata": {},
   "outputs": [
    {
     "name": "stdout",
     "output_type": "stream",
     "text": [
      "Training Accuracy: 99.61%\n"
     ]
    }
   ],
   "source": [
    "# 4. Calculate Training Accuracy\n",
    "correct_train = 0\n",
    "total_train = 0\n",
    "with torch.no_grad():\n",
    "    for inputs, labels in trainloader:\n",
    "        outputs = model(inputs)\n",
    "        _, predicted = torch.max(outputs, 1)\n",
    "        total_train += labels.size(0)\n",
    "        correct_train += (predicted == labels).sum().item()\n",
    "train_acc = 100 * correct_train / total_train\n",
    "print(f\"Training Accuracy: {train_acc:.2f}%\")"
   ]
  },
  {
   "cell_type": "markdown",
   "metadata": {},
   "source": [
    "<h2> Task 3 <h2> "
   ]
  },
  {
   "cell_type": "code",
   "execution_count": null,
   "metadata": {},
   "outputs": [
    {
     "name": "stderr",
     "output_type": "stream",
     "text": [
      "<>:16: SyntaxWarning: invalid escape sequence '\\h'\n",
      "<>:16: SyntaxWarning: invalid escape sequence '\\h'\n",
      "C:\\Users\\damsi\\AppData\\Local\\Temp\\ipykernel_1088\\84268902.py:16: SyntaxWarning: invalid escape sequence '\\h'\n",
      "  data_dir = \"data\\hymenoptera\"\n"
     ]
    }
   ],
   "source": [
    "import torch\n",
    "import torch.nn as nn\n",
    "import torch.optim as optim\n",
    "from torch.optim import lr_scheduler\n",
    "import torchvision\n",
    "from torchvision import datasets, models, transforms\n",
    "import time\n",
    "import os\n",
    "import copy\n",
    "import matplotlib.pyplot as plt\n",
    "\n",
    "# Device configuration\n",
    "device = torch.device(\"cuda:0\" if torch.cuda.is_available() else \"cpu\")\n",
    "\n",
    "# 1. Load the Hymenoptera Dataset\n",
    "data_dir = \"data\\hymenoptera\"\n",
    "\n",
    "# Define data transformations\n",
    "data_transforms = {\n",
    "    'train': transforms.Compose([\n",
    "        transforms.RandomResizedCrop(224),\n",
    "        transforms.RandomHorizontalFlip(),\n",
    "        transforms.ToTensor(),\n",
    "        transforms.Normalize([0.485, 0.456, 0.406], [0.229, 0.224, 0.225])\n",
    "    ]),\n",
    "    'val': transforms.Compose([\n",
    "        transforms.Resize(256),\n",
    "        transforms.CenterCrop(224),\n",
    "        transforms.ToTensor(),\n",
    "        transforms.Normalize([0.485, 0.456, 0.406], [0.229, 0.224, 0.225])\n",
    "    ]),\n",
    "}\n",
    "\n",
    "# Create datasets and dataloaders\n",
    "image_datasets = {x: datasets.ImageFolder(os.path.join(data_dir, x), data_transforms[x])\n",
    "                  for x in ['train', 'val']}\n",
    "dataloaders = {x: torch.utils.data.DataLoader(image_datasets[x], batch_size=4, shuffle=True, num_workers=4)\n",
    "               for x in ['train', 'val']}\n",
    "dataset_sizes = {x: len(image_datasets[x]) for x in ['train', 'val']}\n",
    "class_names = image_datasets['train'].classes"
   ]
  },
  {
   "cell_type": "code",
   "execution_count": 13,
   "metadata": {},
   "outputs": [
    {
     "name": "stdout",
     "output_type": "stream",
     "text": [
      "Fine-tuning the ConvNet\n",
      "Epoch 1/10\n",
      "----------\n",
      "train Loss: 0.5892 Acc: 0.7295\n",
      "val Loss: 0.3143 Acc: 0.8889\n",
      "\n",
      "Epoch 2/10\n",
      "----------\n",
      "train Loss: 0.7105 Acc: 0.7541\n",
      "val Loss: 0.2288 Acc: 0.9020\n",
      "\n",
      "Epoch 3/10\n",
      "----------\n",
      "train Loss: 0.4682 Acc: 0.8238\n",
      "val Loss: 0.3138 Acc: 0.8627\n",
      "\n",
      "Epoch 4/10\n",
      "----------\n",
      "train Loss: 0.5087 Acc: 0.7828\n",
      "val Loss: 0.3855 Acc: 0.8693\n",
      "\n",
      "Epoch 5/10\n",
      "----------\n",
      "train Loss: 0.5576 Acc: 0.8197\n",
      "val Loss: 0.2450 Acc: 0.9150\n",
      "\n",
      "Epoch 6/10\n",
      "----------\n",
      "train Loss: 0.6228 Acc: 0.7459\n",
      "val Loss: 0.4815 Acc: 0.8301\n",
      "\n",
      "Epoch 7/10\n",
      "----------\n",
      "train Loss: 0.5502 Acc: 0.7910\n",
      "val Loss: 0.2167 Acc: 0.9346\n",
      "\n",
      "Epoch 8/10\n",
      "----------\n",
      "train Loss: 0.3076 Acc: 0.8525\n",
      "val Loss: 0.2132 Acc: 0.9477\n",
      "\n",
      "Epoch 9/10\n",
      "----------\n",
      "train Loss: 0.3318 Acc: 0.8730\n",
      "val Loss: 0.2675 Acc: 0.9150\n",
      "\n",
      "Epoch 10/10\n",
      "----------\n",
      "train Loss: 0.3099 Acc: 0.8770\n",
      "val Loss: 0.3702 Acc: 0.8693\n",
      "\n",
      "Training complete in 10m 56s\n",
      "Best val Acc: 0.9477\n",
      "Using the ConvNet as a fixed feature extractor\n",
      "Epoch 1/10\n",
      "----------\n",
      "train Loss: 0.7250 Acc: 0.6230\n",
      "val Loss: 0.2480 Acc: 0.9020\n",
      "\n",
      "Epoch 2/10\n",
      "----------\n",
      "train Loss: 0.4632 Acc: 0.8033\n",
      "val Loss: 0.1945 Acc: 0.9477\n",
      "\n",
      "Epoch 3/10\n",
      "----------\n",
      "train Loss: 0.3988 Acc: 0.7951\n",
      "val Loss: 0.2296 Acc: 0.9020\n",
      "\n",
      "Epoch 4/10\n",
      "----------\n",
      "train Loss: 0.5628 Acc: 0.7500\n",
      "val Loss: 0.1954 Acc: 0.9477\n",
      "\n",
      "Epoch 5/10\n",
      "----------\n",
      "train Loss: 0.4700 Acc: 0.7992\n",
      "val Loss: 0.2283 Acc: 0.9216\n",
      "\n",
      "Epoch 6/10\n",
      "----------\n",
      "train Loss: 0.3602 Acc: 0.8361\n",
      "val Loss: 0.2242 Acc: 0.9281\n",
      "\n",
      "Epoch 7/10\n",
      "----------\n",
      "train Loss: 0.3932 Acc: 0.8361\n",
      "val Loss: 0.2042 Acc: 0.9412\n",
      "\n",
      "Epoch 8/10\n",
      "----------\n",
      "train Loss: 0.3011 Acc: 0.8607\n",
      "val Loss: 0.2209 Acc: 0.9412\n",
      "\n",
      "Epoch 9/10\n",
      "----------\n",
      "train Loss: 0.3102 Acc: 0.8566\n",
      "val Loss: 0.2307 Acc: 0.9346\n",
      "\n",
      "Epoch 10/10\n",
      "----------\n",
      "train Loss: 0.2939 Acc: 0.8689\n",
      "val Loss: 0.2003 Acc: 0.9346\n",
      "\n",
      "Training complete in 10m 39s\n",
      "Best val Acc: 0.9477\n"
     ]
    }
   ],
   "source": [
    "# Function to train the model\n",
    "def train_model(model, criterion, optimizer, scheduler, num_epochs=10):\n",
    "    since = time.time()\n",
    "    best_model_wts = copy.deepcopy(model.state_dict())\n",
    "    best_acc = 0.0\n",
    "\n",
    "    for epoch in range(num_epochs):\n",
    "        print(f'Epoch {epoch + 1}/{num_epochs}')\n",
    "        print('-' * 10)\n",
    "\n",
    "        for phase in ['train', 'val']:\n",
    "            if phase == 'train':\n",
    "                model.train()\n",
    "            else:\n",
    "                model.eval()\n",
    "\n",
    "            running_loss = 0.0\n",
    "            running_corrects = 0\n",
    "\n",
    "            for inputs, labels in dataloaders[phase]:\n",
    "                inputs = inputs.to(device)\n",
    "                labels = labels.to(device)\n",
    "\n",
    "                optimizer.zero_grad()\n",
    "\n",
    "                with torch.set_grad_enabled(phase == 'train'):\n",
    "                    outputs = model(inputs)\n",
    "                    _, preds = torch.max(outputs, 1)\n",
    "                    loss = criterion(outputs, labels)\n",
    "\n",
    "                    if phase == 'train':\n",
    "                        loss.backward()\n",
    "                        optimizer.step()\n",
    "\n",
    "                running_loss += loss.item() * inputs.size(0)\n",
    "                running_corrects += torch.sum(preds == labels.data)\n",
    "\n",
    "            if phase == 'train':\n",
    "                scheduler.step()\n",
    "\n",
    "            epoch_loss = running_loss / dataset_sizes[phase]\n",
    "            epoch_acc = running_corrects.double() / dataset_sizes[phase]\n",
    "\n",
    "            print(f'{phase} Loss: {epoch_loss:.4f} Acc: {epoch_acc:.4f}')\n",
    "\n",
    "            if phase == 'val' and epoch_acc > best_acc:\n",
    "                best_acc = epoch_acc\n",
    "                best_model_wts = copy.deepcopy(model.state_dict())\n",
    "\n",
    "        print()\n",
    "\n",
    "    time_elapsed = time.time() - since\n",
    "    print(f'Training complete in {time_elapsed // 60:.0f}m {time_elapsed % 60:.0f}s')\n",
    "    print(f'Best val Acc: {best_acc:.4f}')\n",
    "\n",
    "    model.load_state_dict(best_model_wts)\n",
    "    return model\n",
    "\n",
    "# Fine-tuning the model\n",
    "model_ft = models.resnet18(weights='IMAGENET1K_V1')\n",
    "num_ftrs = model_ft.fc.in_features\n",
    "model_ft.fc = nn.Linear(num_ftrs, 2)\n",
    "model_ft = model_ft.to(device)\n",
    "\n",
    "criterion = nn.CrossEntropyLoss()\n",
    "optimizer_ft = optim.SGD(model_ft.parameters(), lr=0.001, momentum=0.9)\n",
    "exp_lr_scheduler = lr_scheduler.StepLR(optimizer_ft, step_size=7, gamma=0.1)\n",
    "\n",
    "print(\"Fine-tuning the ConvNet\")\n",
    "model_ft = train_model(model_ft, criterion, optimizer_ft, exp_lr_scheduler, num_epochs=10)\n",
    "\n",
    "# Feature Extraction\n",
    "model_conv = models.resnet18(weights='IMAGENET1K_V1')\n",
    "for param in model_conv.parameters():\n",
    "    param.requires_grad = False  # Freeze all layers\n",
    "\n",
    "num_ftrs = model_conv.fc.in_features\n",
    "model_conv.fc = nn.Linear(num_ftrs, 2)\n",
    "model_conv = model_conv.to(device)\n",
    "\n",
    "criterion = nn.CrossEntropyLoss()\n",
    "optimizer_conv = optim.SGD(model_conv.fc.parameters(), lr=0.001, momentum=0.9)\n",
    "exp_lr_scheduler_conv = lr_scheduler.StepLR(optimizer_conv, step_size=7, gamma=0.1)\n",
    "\n",
    "print(\"Using the ConvNet as a fixed feature extractor\")\n",
    "model_conv = train_model(model_conv, criterion, optimizer_conv, exp_lr_scheduler_conv, num_epochs=10)\n",
    "\n",
    "# Report the training and validation accuracies for both methods"
   ]
  },
  {
   "cell_type": "markdown",
   "metadata": {},
   "source": [
    "<h4>Discussion<h4>\n",
    "\n",
    "<h5> Fine-Tuning <h5>\n",
    "Fine-tuning involves training all layers of the network, allowing the model to adapt fully to the specific dataset (here, hymenoptera). This approach achieved the highest validation accuracy of 94.77%, as it enables the model to learn intricate patterns specific to ants and bees while leveraging pre-trained weights as a starting point. However, it requires more computational power and time, as all layers undergo updates. Fine-tuning is ideal when the target dataset is similar in size or complexity to the original training set, benefiting from full model flexibility.\n",
    "\n",
    "<h5> Feature Extraction <h5>\n",
    "Feature extraction keeps all layers except the final one frozen, using the pre-trained model as a feature extractor and only training the last layer for classification. This method reached a similar best validation accuracy of 94.77%, with less computational demand than fine-tuning. Feature extraction works well when the target dataset is small, as it avoids overfitting by keeping most layers fixed. This technique is effective when the pre-trained features (from ImageNet) are general enough to apply to the new classification task."
   ]
  }
 ],
 "metadata": {
  "kernelspec": {
   "display_name": "Python 3",
   "language": "python",
   "name": "python3"
  },
  "language_info": {
   "codemirror_mode": {
    "name": "ipython",
    "version": 3
   },
   "file_extension": ".py",
   "mimetype": "text/x-python",
   "name": "python",
   "nbconvert_exporter": "python",
   "pygments_lexer": "ipython3",
   "version": "3.12.5"
  }
 },
 "nbformat": 4,
 "nbformat_minor": 2
}
